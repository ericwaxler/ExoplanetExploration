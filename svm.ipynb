{
 "cells": [
  {
   "cell_type": "code",
   "execution_count": 1,
   "metadata": {},
   "outputs": [],
   "source": [
    "import pandas as pd"
   ]
  },
  {
   "cell_type": "markdown",
   "metadata": {},
   "source": [
    "# Read the CSV and Perform Basic Data Cleaning"
   ]
  },
  {
   "cell_type": "code",
   "execution_count": 2,
   "metadata": {},
   "outputs": [
    {
     "data": {
      "text/html": [
       "<div>\n",
       "<style scoped>\n",
       "    .dataframe tbody tr th:only-of-type {\n",
       "        vertical-align: middle;\n",
       "    }\n",
       "\n",
       "    .dataframe tbody tr th {\n",
       "        vertical-align: top;\n",
       "    }\n",
       "\n",
       "    .dataframe thead th {\n",
       "        text-align: right;\n",
       "    }\n",
       "</style>\n",
       "<table border=\"1\" class=\"dataframe\">\n",
       "  <thead>\n",
       "    <tr style=\"text-align: right;\">\n",
       "      <th></th>\n",
       "      <th>koi_disposition</th>\n",
       "      <th>koi_fpflag_nt</th>\n",
       "      <th>koi_fpflag_ss</th>\n",
       "      <th>koi_fpflag_co</th>\n",
       "      <th>koi_fpflag_ec</th>\n",
       "      <th>koi_period</th>\n",
       "      <th>koi_period_err1</th>\n",
       "      <th>koi_period_err2</th>\n",
       "      <th>koi_time0bk</th>\n",
       "      <th>koi_time0bk_err1</th>\n",
       "      <th>...</th>\n",
       "      <th>koi_steff_err2</th>\n",
       "      <th>koi_slogg</th>\n",
       "      <th>koi_slogg_err1</th>\n",
       "      <th>koi_slogg_err2</th>\n",
       "      <th>koi_srad</th>\n",
       "      <th>koi_srad_err1</th>\n",
       "      <th>koi_srad_err2</th>\n",
       "      <th>ra</th>\n",
       "      <th>dec</th>\n",
       "      <th>koi_kepmag</th>\n",
       "    </tr>\n",
       "  </thead>\n",
       "  <tbody>\n",
       "    <tr>\n",
       "      <th>0</th>\n",
       "      <td>CONFIRMED</td>\n",
       "      <td>0</td>\n",
       "      <td>0</td>\n",
       "      <td>0</td>\n",
       "      <td>0</td>\n",
       "      <td>9.488036</td>\n",
       "      <td>2.775000e-05</td>\n",
       "      <td>-2.775000e-05</td>\n",
       "      <td>170.538750</td>\n",
       "      <td>0.002160</td>\n",
       "      <td>...</td>\n",
       "      <td>-81.0</td>\n",
       "      <td>4.467</td>\n",
       "      <td>0.064</td>\n",
       "      <td>-0.096</td>\n",
       "      <td>0.927</td>\n",
       "      <td>0.105</td>\n",
       "      <td>-0.061</td>\n",
       "      <td>291.93423</td>\n",
       "      <td>48.141651</td>\n",
       "      <td>15.347</td>\n",
       "    </tr>\n",
       "    <tr>\n",
       "      <th>1</th>\n",
       "      <td>CONFIRMED</td>\n",
       "      <td>0</td>\n",
       "      <td>0</td>\n",
       "      <td>0</td>\n",
       "      <td>0</td>\n",
       "      <td>54.418383</td>\n",
       "      <td>2.479000e-04</td>\n",
       "      <td>-2.479000e-04</td>\n",
       "      <td>162.513840</td>\n",
       "      <td>0.003520</td>\n",
       "      <td>...</td>\n",
       "      <td>-81.0</td>\n",
       "      <td>4.467</td>\n",
       "      <td>0.064</td>\n",
       "      <td>-0.096</td>\n",
       "      <td>0.927</td>\n",
       "      <td>0.105</td>\n",
       "      <td>-0.061</td>\n",
       "      <td>291.93423</td>\n",
       "      <td>48.141651</td>\n",
       "      <td>15.347</td>\n",
       "    </tr>\n",
       "    <tr>\n",
       "      <th>2</th>\n",
       "      <td>FALSE POSITIVE</td>\n",
       "      <td>0</td>\n",
       "      <td>1</td>\n",
       "      <td>0</td>\n",
       "      <td>0</td>\n",
       "      <td>19.899140</td>\n",
       "      <td>1.494000e-05</td>\n",
       "      <td>-1.494000e-05</td>\n",
       "      <td>175.850252</td>\n",
       "      <td>0.000581</td>\n",
       "      <td>...</td>\n",
       "      <td>-176.0</td>\n",
       "      <td>4.544</td>\n",
       "      <td>0.044</td>\n",
       "      <td>-0.176</td>\n",
       "      <td>0.868</td>\n",
       "      <td>0.233</td>\n",
       "      <td>-0.078</td>\n",
       "      <td>297.00482</td>\n",
       "      <td>48.134129</td>\n",
       "      <td>15.436</td>\n",
       "    </tr>\n",
       "    <tr>\n",
       "      <th>3</th>\n",
       "      <td>FALSE POSITIVE</td>\n",
       "      <td>0</td>\n",
       "      <td>1</td>\n",
       "      <td>0</td>\n",
       "      <td>0</td>\n",
       "      <td>1.736952</td>\n",
       "      <td>2.630000e-07</td>\n",
       "      <td>-2.630000e-07</td>\n",
       "      <td>170.307565</td>\n",
       "      <td>0.000115</td>\n",
       "      <td>...</td>\n",
       "      <td>-174.0</td>\n",
       "      <td>4.564</td>\n",
       "      <td>0.053</td>\n",
       "      <td>-0.168</td>\n",
       "      <td>0.791</td>\n",
       "      <td>0.201</td>\n",
       "      <td>-0.067</td>\n",
       "      <td>285.53461</td>\n",
       "      <td>48.285210</td>\n",
       "      <td>15.597</td>\n",
       "    </tr>\n",
       "    <tr>\n",
       "      <th>4</th>\n",
       "      <td>CONFIRMED</td>\n",
       "      <td>0</td>\n",
       "      <td>0</td>\n",
       "      <td>0</td>\n",
       "      <td>0</td>\n",
       "      <td>2.525592</td>\n",
       "      <td>3.761000e-06</td>\n",
       "      <td>-3.761000e-06</td>\n",
       "      <td>171.595550</td>\n",
       "      <td>0.001130</td>\n",
       "      <td>...</td>\n",
       "      <td>-211.0</td>\n",
       "      <td>4.438</td>\n",
       "      <td>0.070</td>\n",
       "      <td>-0.210</td>\n",
       "      <td>1.046</td>\n",
       "      <td>0.334</td>\n",
       "      <td>-0.133</td>\n",
       "      <td>288.75488</td>\n",
       "      <td>48.226200</td>\n",
       "      <td>15.509</td>\n",
       "    </tr>\n",
       "  </tbody>\n",
       "</table>\n",
       "<p>5 rows × 41 columns</p>\n",
       "</div>"
      ],
      "text/plain": [
       "  koi_disposition  koi_fpflag_nt  koi_fpflag_ss  koi_fpflag_co  koi_fpflag_ec  \\\n",
       "0       CONFIRMED              0              0              0              0   \n",
       "1       CONFIRMED              0              0              0              0   \n",
       "2  FALSE POSITIVE              0              1              0              0   \n",
       "3  FALSE POSITIVE              0              1              0              0   \n",
       "4       CONFIRMED              0              0              0              0   \n",
       "\n",
       "   koi_period  koi_period_err1  koi_period_err2  koi_time0bk  \\\n",
       "0    9.488036     2.775000e-05    -2.775000e-05   170.538750   \n",
       "1   54.418383     2.479000e-04    -2.479000e-04   162.513840   \n",
       "2   19.899140     1.494000e-05    -1.494000e-05   175.850252   \n",
       "3    1.736952     2.630000e-07    -2.630000e-07   170.307565   \n",
       "4    2.525592     3.761000e-06    -3.761000e-06   171.595550   \n",
       "\n",
       "   koi_time0bk_err1  ...  koi_steff_err2  koi_slogg  koi_slogg_err1  \\\n",
       "0          0.002160  ...           -81.0      4.467           0.064   \n",
       "1          0.003520  ...           -81.0      4.467           0.064   \n",
       "2          0.000581  ...          -176.0      4.544           0.044   \n",
       "3          0.000115  ...          -174.0      4.564           0.053   \n",
       "4          0.001130  ...          -211.0      4.438           0.070   \n",
       "\n",
       "   koi_slogg_err2  koi_srad  koi_srad_err1  koi_srad_err2         ra  \\\n",
       "0          -0.096     0.927          0.105         -0.061  291.93423   \n",
       "1          -0.096     0.927          0.105         -0.061  291.93423   \n",
       "2          -0.176     0.868          0.233         -0.078  297.00482   \n",
       "3          -0.168     0.791          0.201         -0.067  285.53461   \n",
       "4          -0.210     1.046          0.334         -0.133  288.75488   \n",
       "\n",
       "         dec  koi_kepmag  \n",
       "0  48.141651      15.347  \n",
       "1  48.141651      15.347  \n",
       "2  48.134129      15.436  \n",
       "3  48.285210      15.597  \n",
       "4  48.226200      15.509  \n",
       "\n",
       "[5 rows x 41 columns]"
      ]
     },
     "execution_count": 2,
     "metadata": {},
     "output_type": "execute_result"
    }
   ],
   "source": [
    "df = pd.read_csv(\"cumulative.csv\")\n",
    "df = df.drop(columns=[\"rowid\", \"kepid\", \"kepoi_name\", \"kepler_name\", \"koi_pdisposition\", \"koi_score\", \"koi_tce_delivname\"])\n",
    "# Drop the null columns where all values are null\n",
    "df = df.dropna(axis='columns', how='all')\n",
    "# Drop the null rows\n",
    "df = df.dropna()\n",
    "df.head()"
   ]
  },
  {
   "cell_type": "markdown",
   "metadata": {},
   "source": [
    "# Create a Train Test Split\n",
    "\n",
    "Use `koi_disposition` for the y values"
   ]
  },
  {
   "cell_type": "code",
   "execution_count": 3,
   "metadata": {},
   "outputs": [],
   "source": [
    "y = df['koi_disposition']\n",
    "X = df.drop('koi_disposition', axis=1)"
   ]
  },
  {
   "cell_type": "code",
   "execution_count": 4,
   "metadata": {},
   "outputs": [],
   "source": [
    "from sklearn.model_selection import train_test_split\n",
    "from sklearn.preprocessing import LabelEncoder, MinMaxScaler\n",
    "from tensorflow.keras.utils import to_categorical\n",
    "\n",
    "X_train, X_test, y_train, y_test = train_test_split(\n",
    "    X, y, random_state=1, stratify=y)"
   ]
  },
  {
   "cell_type": "code",
   "execution_count": 5,
   "metadata": {},
   "outputs": [
    {
     "data": {
      "text/html": [
       "<div>\n",
       "<style scoped>\n",
       "    .dataframe tbody tr th:only-of-type {\n",
       "        vertical-align: middle;\n",
       "    }\n",
       "\n",
       "    .dataframe tbody tr th {\n",
       "        vertical-align: top;\n",
       "    }\n",
       "\n",
       "    .dataframe thead th {\n",
       "        text-align: right;\n",
       "    }\n",
       "</style>\n",
       "<table border=\"1\" class=\"dataframe\">\n",
       "  <thead>\n",
       "    <tr style=\"text-align: right;\">\n",
       "      <th></th>\n",
       "      <th>koi_fpflag_nt</th>\n",
       "      <th>koi_fpflag_ss</th>\n",
       "      <th>koi_fpflag_co</th>\n",
       "      <th>koi_fpflag_ec</th>\n",
       "      <th>koi_period</th>\n",
       "      <th>koi_period_err1</th>\n",
       "      <th>koi_period_err2</th>\n",
       "      <th>koi_time0bk</th>\n",
       "      <th>koi_time0bk_err1</th>\n",
       "      <th>koi_time0bk_err2</th>\n",
       "      <th>...</th>\n",
       "      <th>koi_steff_err2</th>\n",
       "      <th>koi_slogg</th>\n",
       "      <th>koi_slogg_err1</th>\n",
       "      <th>koi_slogg_err2</th>\n",
       "      <th>koi_srad</th>\n",
       "      <th>koi_srad_err1</th>\n",
       "      <th>koi_srad_err2</th>\n",
       "      <th>ra</th>\n",
       "      <th>dec</th>\n",
       "      <th>koi_kepmag</th>\n",
       "    </tr>\n",
       "  </thead>\n",
       "  <tbody>\n",
       "    <tr>\n",
       "      <th>5964</th>\n",
       "      <td>1</td>\n",
       "      <td>0</td>\n",
       "      <td>0</td>\n",
       "      <td>0</td>\n",
       "      <td>252.044440</td>\n",
       "      <td>0.027490</td>\n",
       "      <td>-0.027490</td>\n",
       "      <td>265.2010</td>\n",
       "      <td>0.0494</td>\n",
       "      <td>-0.0494</td>\n",
       "      <td>...</td>\n",
       "      <td>-136.0</td>\n",
       "      <td>4.621</td>\n",
       "      <td>0.041</td>\n",
       "      <td>-0.035</td>\n",
       "      <td>0.664</td>\n",
       "      <td>0.057</td>\n",
       "      <td>-0.059</td>\n",
       "      <td>292.79022</td>\n",
       "      <td>41.948639</td>\n",
       "      <td>15.884</td>\n",
       "    </tr>\n",
       "    <tr>\n",
       "      <th>9410</th>\n",
       "      <td>1</td>\n",
       "      <td>0</td>\n",
       "      <td>0</td>\n",
       "      <td>0</td>\n",
       "      <td>371.518520</td>\n",
       "      <td>0.015790</td>\n",
       "      <td>-0.015790</td>\n",
       "      <td>317.6836</td>\n",
       "      <td>0.0339</td>\n",
       "      <td>-0.0339</td>\n",
       "      <td>...</td>\n",
       "      <td>-206.0</td>\n",
       "      <td>4.377</td>\n",
       "      <td>0.101</td>\n",
       "      <td>-0.203</td>\n",
       "      <td>1.089</td>\n",
       "      <td>0.364</td>\n",
       "      <td>-0.145</td>\n",
       "      <td>293.06400</td>\n",
       "      <td>45.034210</td>\n",
       "      <td>13.731</td>\n",
       "    </tr>\n",
       "    <tr>\n",
       "      <th>4204</th>\n",
       "      <td>0</td>\n",
       "      <td>0</td>\n",
       "      <td>1</td>\n",
       "      <td>0</td>\n",
       "      <td>8.038670</td>\n",
       "      <td>0.000114</td>\n",
       "      <td>-0.000114</td>\n",
       "      <td>135.3098</td>\n",
       "      <td>0.0123</td>\n",
       "      <td>-0.0123</td>\n",
       "      <td>...</td>\n",
       "      <td>-181.0</td>\n",
       "      <td>4.485</td>\n",
       "      <td>0.050</td>\n",
       "      <td>-0.200</td>\n",
       "      <td>0.975</td>\n",
       "      <td>0.282</td>\n",
       "      <td>-0.101</td>\n",
       "      <td>290.51785</td>\n",
       "      <td>41.238762</td>\n",
       "      <td>14.999</td>\n",
       "    </tr>\n",
       "    <tr>\n",
       "      <th>5933</th>\n",
       "      <td>0</td>\n",
       "      <td>0</td>\n",
       "      <td>0</td>\n",
       "      <td>0</td>\n",
       "      <td>18.782160</td>\n",
       "      <td>0.000406</td>\n",
       "      <td>-0.000406</td>\n",
       "      <td>147.8508</td>\n",
       "      <td>0.0148</td>\n",
       "      <td>-0.0148</td>\n",
       "      <td>...</td>\n",
       "      <td>-167.0</td>\n",
       "      <td>4.488</td>\n",
       "      <td>0.048</td>\n",
       "      <td>-0.290</td>\n",
       "      <td>0.940</td>\n",
       "      <td>0.386</td>\n",
       "      <td>-0.087</td>\n",
       "      <td>291.76413</td>\n",
       "      <td>41.860130</td>\n",
       "      <td>14.043</td>\n",
       "    </tr>\n",
       "    <tr>\n",
       "      <th>6996</th>\n",
       "      <td>1</td>\n",
       "      <td>0</td>\n",
       "      <td>1</td>\n",
       "      <td>0</td>\n",
       "      <td>12.429716</td>\n",
       "      <td>0.000472</td>\n",
       "      <td>-0.000472</td>\n",
       "      <td>141.2846</td>\n",
       "      <td>0.0420</td>\n",
       "      <td>-0.0420</td>\n",
       "      <td>...</td>\n",
       "      <td>-200.0</td>\n",
       "      <td>4.534</td>\n",
       "      <td>0.037</td>\n",
       "      <td>-0.213</td>\n",
       "      <td>0.905</td>\n",
       "      <td>0.281</td>\n",
       "      <td>-0.088</td>\n",
       "      <td>297.52072</td>\n",
       "      <td>40.585419</td>\n",
       "      <td>15.842</td>\n",
       "    </tr>\n",
       "  </tbody>\n",
       "</table>\n",
       "<p>5 rows × 40 columns</p>\n",
       "</div>"
      ],
      "text/plain": [
       "      koi_fpflag_nt  koi_fpflag_ss  koi_fpflag_co  koi_fpflag_ec  koi_period  \\\n",
       "5964              1              0              0              0  252.044440   \n",
       "9410              1              0              0              0  371.518520   \n",
       "4204              0              0              1              0    8.038670   \n",
       "5933              0              0              0              0   18.782160   \n",
       "6996              1              0              1              0   12.429716   \n",
       "\n",
       "      koi_period_err1  koi_period_err2  koi_time0bk  koi_time0bk_err1  \\\n",
       "5964         0.027490        -0.027490     265.2010            0.0494   \n",
       "9410         0.015790        -0.015790     317.6836            0.0339   \n",
       "4204         0.000114        -0.000114     135.3098            0.0123   \n",
       "5933         0.000406        -0.000406     147.8508            0.0148   \n",
       "6996         0.000472        -0.000472     141.2846            0.0420   \n",
       "\n",
       "      koi_time0bk_err2  ...  koi_steff_err2  koi_slogg  koi_slogg_err1  \\\n",
       "5964           -0.0494  ...          -136.0      4.621           0.041   \n",
       "9410           -0.0339  ...          -206.0      4.377           0.101   \n",
       "4204           -0.0123  ...          -181.0      4.485           0.050   \n",
       "5933           -0.0148  ...          -167.0      4.488           0.048   \n",
       "6996           -0.0420  ...          -200.0      4.534           0.037   \n",
       "\n",
       "      koi_slogg_err2  koi_srad  koi_srad_err1  koi_srad_err2         ra  \\\n",
       "5964          -0.035     0.664          0.057         -0.059  292.79022   \n",
       "9410          -0.203     1.089          0.364         -0.145  293.06400   \n",
       "4204          -0.200     0.975          0.282         -0.101  290.51785   \n",
       "5933          -0.290     0.940          0.386         -0.087  291.76413   \n",
       "6996          -0.213     0.905          0.281         -0.088  297.52072   \n",
       "\n",
       "            dec  koi_kepmag  \n",
       "5964  41.948639      15.884  \n",
       "9410  45.034210      13.731  \n",
       "4204  41.238762      14.999  \n",
       "5933  41.860130      14.043  \n",
       "6996  40.585419      15.842  \n",
       "\n",
       "[5 rows x 40 columns]"
      ]
     },
     "execution_count": 5,
     "metadata": {},
     "output_type": "execute_result"
    }
   ],
   "source": [
    "X_train.head()"
   ]
  },
  {
   "cell_type": "markdown",
   "metadata": {},
   "source": [
    "# Pre-processing\n",
    "\n",
    "Scale the data using the MinMaxScaler"
   ]
  },
  {
   "cell_type": "code",
   "execution_count": 6,
   "metadata": {},
   "outputs": [],
   "source": [
    "X_scaler = MinMaxScaler().fit(X_train)\n",
    "X_train_scaled = X_scaler.transform(X_train)\n",
    "X_test_scaled = X_scaler.transform(X_test)"
   ]
  },
  {
   "cell_type": "markdown",
   "metadata": {},
   "source": [
    "# Train the Support Vector Machine"
   ]
  },
  {
   "cell_type": "code",
   "execution_count": 7,
   "metadata": {},
   "outputs": [
    {
     "data": {
      "text/plain": [
       "SVC(C=1.0, cache_size=200, class_weight=None, coef0=0.0,\n",
       "    decision_function_shape='ovr', degree=3, gamma='auto_deprecated',\n",
       "    kernel='linear', max_iter=-1, probability=False, random_state=None,\n",
       "    shrinking=True, tol=0.001, verbose=False)"
      ]
     },
     "execution_count": 7,
     "metadata": {},
     "output_type": "execute_result"
    }
   ],
   "source": [
    "from sklearn.svm import SVC \n",
    "model = SVC(kernel='linear')\n",
    "model.fit(X_train_scaled, y_train)"
   ]
  },
  {
   "cell_type": "code",
   "execution_count": 8,
   "metadata": {},
   "outputs": [
    {
     "name": "stdout",
     "output_type": "stream",
     "text": [
      "Training Data Score: 0.8479719426654467\n",
      "Testing Data Score: 0.8462946020128088\n"
     ]
    }
   ],
   "source": [
    "print(f\"Training Data Score: {model.score(X_train_scaled, y_train)}\")\n",
    "print(f\"Testing Data Score: {model.score(X_test_scaled, y_test)}\")"
   ]
  },
  {
   "cell_type": "markdown",
   "metadata": {},
   "source": [
    "# Hyperparameter Tuning\n",
    "\n",
    "Use `GridSearchCV` to tune the `C` and `gamma` parameters"
   ]
  },
  {
   "cell_type": "code",
   "execution_count": 17,
   "metadata": {},
   "outputs": [],
   "source": [
    "model2 = SVC(kernel='linear')"
   ]
  },
  {
   "cell_type": "code",
   "execution_count": 18,
   "metadata": {},
   "outputs": [],
   "source": [
    "# Create the GridSearchCV model\n",
    "from sklearn.model_selection import GridSearchCV\n",
    "param_grid = {'C': [1, 5, 10],'gamma': [0.0001, 0.001, 0.01]}\n",
    "#grid = GridSearchCV(model2, param_grid, verbose=3, n_jobs=-1)\n",
    "grid = GridSearchCV(model2, param_grid, verbose=3)"
   ]
  },
  {
   "cell_type": "code",
   "execution_count": 19,
   "metadata": {
    "collapsed": true,
    "jupyter": {
     "outputs_hidden": true
    }
   },
   "outputs": [
    {
     "name": "stderr",
     "output_type": "stream",
     "text": [
      "/anaconda3/lib/python3.7/site-packages/sklearn/model_selection/_split.py:1978: FutureWarning: The default value of cv will change from 3 to 5 in version 0.22. Specify it explicitly to silence this warning.\n",
      "  warnings.warn(CV_WARNING, FutureWarning)\n",
      "[Parallel(n_jobs=1)]: Using backend SequentialBackend with 1 concurrent workers.\n"
     ]
    },
    {
     "name": "stdout",
     "output_type": "stream",
     "text": [
      "Fitting 3 folds for each of 9 candidates, totalling 27 fits\n",
      "[CV] C=1, gamma=0.0001 ...............................................\n",
      "[CV] ................... C=1, gamma=0.0001, score=0.840, total=   0.4s\n",
      "[CV] C=1, gamma=0.0001 ...............................................\n"
     ]
    },
    {
     "name": "stderr",
     "output_type": "stream",
     "text": [
      "[Parallel(n_jobs=1)]: Done   1 out of   1 | elapsed:    0.4s remaining:    0.0s\n"
     ]
    },
    {
     "name": "stdout",
     "output_type": "stream",
     "text": [
      "[CV] ................... C=1, gamma=0.0001, score=0.851, total=   0.4s\n",
      "[CV] C=1, gamma=0.0001 ...............................................\n"
     ]
    },
    {
     "name": "stderr",
     "output_type": "stream",
     "text": [
      "[Parallel(n_jobs=1)]: Done   2 out of   2 | elapsed:    0.7s remaining:    0.0s\n"
     ]
    },
    {
     "name": "stdout",
     "output_type": "stream",
     "text": [
      "[CV] ................... C=1, gamma=0.0001, score=0.836, total=   0.4s\n",
      "[CV] C=1, gamma=0.001 ................................................\n",
      "[CV] .................... C=1, gamma=0.001, score=0.840, total=   0.4s\n",
      "[CV] C=1, gamma=0.001 ................................................\n",
      "[CV] .................... C=1, gamma=0.001, score=0.851, total=   0.4s\n",
      "[CV] C=1, gamma=0.001 ................................................\n",
      "[CV] .................... C=1, gamma=0.001, score=0.836, total=   0.4s\n",
      "[CV] C=1, gamma=0.01 .................................................\n",
      "[CV] ..................... C=1, gamma=0.01, score=0.840, total=   0.4s\n",
      "[CV] C=1, gamma=0.01 .................................................\n",
      "[CV] ..................... C=1, gamma=0.01, score=0.851, total=   0.4s\n",
      "[CV] C=1, gamma=0.01 .................................................\n",
      "[CV] ..................... C=1, gamma=0.01, score=0.836, total=   0.4s\n",
      "[CV] C=5, gamma=0.0001 ...............................................\n",
      "[CV] ................... C=5, gamma=0.0001, score=0.858, total=   0.4s\n",
      "[CV] C=5, gamma=0.0001 ...............................................\n",
      "[CV] ................... C=5, gamma=0.0001, score=0.869, total=   0.3s\n",
      "[CV] C=5, gamma=0.0001 ...............................................\n",
      "[CV] ................... C=5, gamma=0.0001, score=0.862, total=   0.3s\n",
      "[CV] C=5, gamma=0.001 ................................................\n",
      "[CV] .................... C=5, gamma=0.001, score=0.858, total=   0.4s\n",
      "[CV] C=5, gamma=0.001 ................................................\n",
      "[CV] .................... C=5, gamma=0.001, score=0.869, total=   0.3s\n",
      "[CV] C=5, gamma=0.001 ................................................\n",
      "[CV] .................... C=5, gamma=0.001, score=0.862, total=   0.4s\n",
      "[CV] C=5, gamma=0.01 .................................................\n",
      "[CV] ..................... C=5, gamma=0.01, score=0.858, total=   0.4s\n",
      "[CV] C=5, gamma=0.01 .................................................\n",
      "[CV] ..................... C=5, gamma=0.01, score=0.869, total=   0.3s\n",
      "[CV] C=5, gamma=0.01 .................................................\n",
      "[CV] ..................... C=5, gamma=0.01, score=0.862, total=   0.4s\n",
      "[CV] C=10, gamma=0.0001 ..............................................\n",
      "[CV] .................. C=10, gamma=0.0001, score=0.865, total=   0.4s\n",
      "[CV] C=10, gamma=0.0001 ..............................................\n",
      "[CV] .................. C=10, gamma=0.0001, score=0.875, total=   0.4s\n",
      "[CV] C=10, gamma=0.0001 ..............................................\n",
      "[CV] .................. C=10, gamma=0.0001, score=0.867, total=   0.4s\n",
      "[CV] C=10, gamma=0.001 ...............................................\n",
      "[CV] ................... C=10, gamma=0.001, score=0.865, total=   0.4s\n",
      "[CV] C=10, gamma=0.001 ...............................................\n",
      "[CV] ................... C=10, gamma=0.001, score=0.875, total=   0.3s\n",
      "[CV] C=10, gamma=0.001 ...............................................\n",
      "[CV] ................... C=10, gamma=0.001, score=0.867, total=   0.4s\n",
      "[CV] C=10, gamma=0.01 ................................................\n",
      "[CV] .................... C=10, gamma=0.01, score=0.865, total=   0.4s\n",
      "[CV] C=10, gamma=0.01 ................................................\n",
      "[CV] .................... C=10, gamma=0.01, score=0.875, total=   0.4s\n",
      "[CV] C=10, gamma=0.01 ................................................\n",
      "[CV] .................... C=10, gamma=0.01, score=0.867, total=   0.4s\n"
     ]
    },
    {
     "name": "stderr",
     "output_type": "stream",
     "text": [
      "[Parallel(n_jobs=1)]: Done  27 out of  27 | elapsed:   10.0s finished\n"
     ]
    },
    {
     "data": {
      "text/plain": [
       "GridSearchCV(cv='warn', error_score='raise-deprecating',\n",
       "             estimator=SVC(C=1.0, cache_size=200, class_weight=None, coef0=0.0,\n",
       "                           decision_function_shape='ovr', degree=3,\n",
       "                           gamma='auto_deprecated', kernel='linear',\n",
       "                           max_iter=-1, probability=False, random_state=None,\n",
       "                           shrinking=True, tol=0.001, verbose=False),\n",
       "             iid='warn', n_jobs=None,\n",
       "             param_grid={'C': [1, 5, 10], 'gamma': [0.0001, 0.001, 0.01]},\n",
       "             pre_dispatch='2*n_jobs', refit=True, return_train_score=False,\n",
       "             scoring=None, verbose=3)"
      ]
     },
     "execution_count": 19,
     "metadata": {},
     "output_type": "execute_result"
    }
   ],
   "source": [
    "# Train the model with GridSearch\n",
    "grid.fit(X_train_scaled, y_train)"
   ]
  },
  {
   "cell_type": "code",
   "execution_count": 21,
   "metadata": {},
   "outputs": [
    {
     "name": "stdout",
     "output_type": "stream",
     "text": [
      "{'C': 10, 'gamma': 0.0001}\n",
      "0.8690149435803599\n"
     ]
    }
   ],
   "source": [
    "print(grid.best_params_)\n",
    "print(grid.best_score_)"
   ]
  },
  {
   "cell_type": "code",
   "execution_count": 25,
   "metadata": {},
   "outputs": [
    {
     "name": "stdout",
     "output_type": "stream",
     "text": [
      "Training Data Score: 0.8740469655382739\n",
      "Testing Data Score: 0.8755718206770357\n"
     ]
    }
   ],
   "source": [
    "print(f\"Training Data Score: {grid.score(X_train_scaled, y_train)}\")\n",
    "print(f\"Testing Data Score: {grid.score(X_test_scaled, y_test)}\")"
   ]
  },
  {
   "cell_type": "markdown",
   "metadata": {},
   "source": [
    "# Neural Network\n"
   ]
  },
  {
   "cell_type": "code",
   "execution_count": 26,
   "metadata": {},
   "outputs": [],
   "source": [
    "label_encoder = LabelEncoder()\n",
    "label_encoder.fit(y_train)\n",
    "encoded_y_train = label_encoder.transform(y_train)\n",
    "encoded_y_test = label_encoder.transform(y_test)\n",
    "\n",
    "# Step 2: Convert encoded labels to one-hot-encoding\n",
    "y_train_categorical = to_categorical(encoded_y_train)\n",
    "y_test_categorical = to_categorical(encoded_y_test)"
   ]
  },
  {
   "cell_type": "code",
   "execution_count": 30,
   "metadata": {},
   "outputs": [
    {
     "name": "stdout",
     "output_type": "stream",
     "text": [
      "Model: \"sequential_1\"\n",
      "_________________________________________________________________\n",
      "Layer (type)                 Output Shape              Param #   \n",
      "=================================================================\n",
      "dense_3 (Dense)              (None, 100)               4100      \n",
      "_________________________________________________________________\n",
      "dense_4 (Dense)              (None, 100)               10100     \n",
      "_________________________________________________________________\n",
      "dense_5 (Dense)              (None, 3)                 303       \n",
      "=================================================================\n",
      "Total params: 14,503\n",
      "Trainable params: 14,503\n",
      "Non-trainable params: 0\n",
      "_________________________________________________________________\n"
     ]
    }
   ],
   "source": [
    "from tensorflow.keras.models import Sequential\n",
    "from tensorflow.keras.layers import Dense\n",
    "\n",
    "# Create a Neural Network model \n",
    "\n",
    "model3 = Sequential()\n",
    "model3.add(Dense(units=100, activation='relu', input_dim=40))\n",
    "model3.add(Dense(units=100, activation='relu', input_dim=40))\n",
    "model3.add(Dense(units=3, activation='softmax'))\n",
    "model3.summary()"
   ]
  },
  {
   "cell_type": "code",
   "execution_count": 31,
   "metadata": {},
   "outputs": [],
   "source": [
    "# Compile and fit the model\n",
    "model3.compile(optimizer='adam',\n",
    "              loss='categorical_crossentropy',\n",
    "              metrics=['accuracy'])"
   ]
  },
  {
   "cell_type": "code",
   "execution_count": 32,
   "metadata": {
    "collapsed": true,
    "jupyter": {
     "outputs_hidden": true
    }
   },
   "outputs": [
    {
     "name": "stderr",
     "output_type": "stream",
     "text": [
      "WARNING: Logging before flag parsing goes to stderr.\n",
      "W0810 12:59:26.600129 4443874752 deprecation.py:323] From /anaconda3/lib/python3.7/site-packages/tensorflow/python/ops/math_grad.py:1250: add_dispatch_support.<locals>.wrapper (from tensorflow.python.ops.array_ops) is deprecated and will be removed in a future version.\n",
      "Instructions for updating:\n",
      "Use tf.where in 2.0, which has the same broadcast rule as np.where\n"
     ]
    },
    {
     "name": "stdout",
     "output_type": "stream",
     "text": [
      "Train on 6558 samples\n",
      "Epoch 1/100\n",
      "6558/6558 - 0s - loss: 0.5383 - accuracy: 0.7486\n",
      "Epoch 2/100\n",
      "6558/6558 - 0s - loss: 0.3621 - accuracy: 0.8150\n",
      "Epoch 3/100\n",
      "6558/6558 - 0s - loss: 0.3468 - accuracy: 0.8271\n",
      "Epoch 4/100\n",
      "6558/6558 - 0s - loss: 0.3354 - accuracy: 0.8385\n",
      "Epoch 5/100\n",
      "6558/6558 - 0s - loss: 0.3280 - accuracy: 0.8416\n",
      "Epoch 6/100\n",
      "6558/6558 - 0s - loss: 0.3256 - accuracy: 0.8417\n",
      "Epoch 7/100\n",
      "6558/6558 - 0s - loss: 0.3262 - accuracy: 0.8475\n",
      "Epoch 8/100\n",
      "6558/6558 - 0s - loss: 0.3183 - accuracy: 0.8503\n",
      "Epoch 9/100\n",
      "6558/6558 - 0s - loss: 0.3092 - accuracy: 0.8591\n",
      "Epoch 10/100\n",
      "6558/6558 - 0s - loss: 0.3024 - accuracy: 0.8675\n",
      "Epoch 11/100\n",
      "6558/6558 - 0s - loss: 0.3005 - accuracy: 0.8658\n",
      "Epoch 12/100\n",
      "6558/6558 - 0s - loss: 0.3000 - accuracy: 0.8652\n",
      "Epoch 13/100\n",
      "6558/6558 - 0s - loss: 0.2930 - accuracy: 0.8731\n",
      "Epoch 14/100\n",
      "6558/6558 - 0s - loss: 0.2894 - accuracy: 0.8724\n",
      "Epoch 15/100\n",
      "6558/6558 - 0s - loss: 0.2867 - accuracy: 0.8760\n",
      "Epoch 16/100\n",
      "6558/6558 - 0s - loss: 0.2868 - accuracy: 0.8715\n",
      "Epoch 17/100\n",
      "6558/6558 - 0s - loss: 0.2822 - accuracy: 0.8765\n",
      "Epoch 18/100\n",
      "6558/6558 - 0s - loss: 0.2785 - accuracy: 0.8794\n",
      "Epoch 19/100\n",
      "6558/6558 - 0s - loss: 0.2805 - accuracy: 0.8772\n",
      "Epoch 20/100\n",
      "6558/6558 - 0s - loss: 0.2766 - accuracy: 0.8809\n",
      "Epoch 21/100\n",
      "6558/6558 - 0s - loss: 0.2758 - accuracy: 0.8788\n",
      "Epoch 22/100\n",
      "6558/6558 - 0s - loss: 0.2683 - accuracy: 0.8849\n",
      "Epoch 23/100\n",
      "6558/6558 - 0s - loss: 0.2696 - accuracy: 0.8840\n",
      "Epoch 24/100\n",
      "6558/6558 - 0s - loss: 0.2737 - accuracy: 0.8818\n",
      "Epoch 25/100\n",
      "6558/6558 - 0s - loss: 0.2650 - accuracy: 0.8879\n",
      "Epoch 26/100\n",
      "6558/6558 - 0s - loss: 0.2657 - accuracy: 0.8846\n",
      "Epoch 27/100\n",
      "6558/6558 - 0s - loss: 0.2584 - accuracy: 0.8907\n",
      "Epoch 28/100\n",
      "6558/6558 - 0s - loss: 0.2642 - accuracy: 0.8840\n",
      "Epoch 29/100\n",
      "6558/6558 - 0s - loss: 0.2632 - accuracy: 0.8844\n",
      "Epoch 30/100\n",
      "6558/6558 - 0s - loss: 0.2615 - accuracy: 0.8872\n",
      "Epoch 31/100\n",
      "6558/6558 - 0s - loss: 0.2531 - accuracy: 0.8896\n",
      "Epoch 32/100\n",
      "6558/6558 - 0s - loss: 0.2619 - accuracy: 0.8830\n",
      "Epoch 33/100\n",
      "6558/6558 - 0s - loss: 0.2580 - accuracy: 0.8876\n",
      "Epoch 34/100\n",
      "6558/6558 - 0s - loss: 0.2531 - accuracy: 0.8928\n",
      "Epoch 35/100\n",
      "6558/6558 - 0s - loss: 0.2526 - accuracy: 0.8919\n",
      "Epoch 36/100\n",
      "6558/6558 - 0s - loss: 0.2506 - accuracy: 0.8907\n",
      "Epoch 37/100\n",
      "6558/6558 - 0s - loss: 0.2484 - accuracy: 0.8954\n",
      "Epoch 38/100\n",
      "6558/6558 - 0s - loss: 0.2569 - accuracy: 0.8859\n",
      "Epoch 39/100\n",
      "6558/6558 - 0s - loss: 0.2502 - accuracy: 0.8937\n",
      "Epoch 40/100\n",
      "6558/6558 - 0s - loss: 0.2494 - accuracy: 0.8911\n",
      "Epoch 41/100\n",
      "6558/6558 - 0s - loss: 0.2470 - accuracy: 0.8922\n",
      "Epoch 42/100\n",
      "6558/6558 - 0s - loss: 0.2482 - accuracy: 0.8910\n",
      "Epoch 43/100\n",
      "6558/6558 - 0s - loss: 0.2471 - accuracy: 0.8939\n",
      "Epoch 44/100\n",
      "6558/6558 - 0s - loss: 0.2425 - accuracy: 0.8971\n",
      "Epoch 45/100\n",
      "6558/6558 - 0s - loss: 0.2433 - accuracy: 0.8937\n",
      "Epoch 46/100\n",
      "6558/6558 - 0s - loss: 0.2410 - accuracy: 0.8962\n",
      "Epoch 47/100\n",
      "6558/6558 - 0s - loss: 0.2502 - accuracy: 0.8875\n",
      "Epoch 48/100\n",
      "6558/6558 - 0s - loss: 0.2436 - accuracy: 0.8965\n",
      "Epoch 49/100\n",
      "6558/6558 - 0s - loss: 0.2399 - accuracy: 0.8934\n",
      "Epoch 50/100\n",
      "6558/6558 - 0s - loss: 0.2407 - accuracy: 0.8946\n",
      "Epoch 51/100\n",
      "6558/6558 - 0s - loss: 0.2387 - accuracy: 0.8954\n",
      "Epoch 52/100\n",
      "6558/6558 - 0s - loss: 0.2416 - accuracy: 0.8933\n",
      "Epoch 53/100\n",
      "6558/6558 - 0s - loss: 0.2412 - accuracy: 0.8957\n",
      "Epoch 54/100\n",
      "6558/6558 - 0s - loss: 0.2317 - accuracy: 0.8977\n",
      "Epoch 55/100\n",
      "6558/6558 - 0s - loss: 0.2424 - accuracy: 0.8949\n",
      "Epoch 56/100\n",
      "6558/6558 - 0s - loss: 0.2317 - accuracy: 0.9029\n",
      "Epoch 57/100\n",
      "6558/6558 - 0s - loss: 0.2327 - accuracy: 0.8991\n",
      "Epoch 58/100\n",
      "6558/6558 - 0s - loss: 0.2339 - accuracy: 0.8977\n",
      "Epoch 59/100\n",
      "6558/6558 - 0s - loss: 0.2344 - accuracy: 0.8959\n",
      "Epoch 60/100\n",
      "6558/6558 - 0s - loss: 0.2344 - accuracy: 0.8977\n",
      "Epoch 61/100\n",
      "6558/6558 - 0s - loss: 0.2318 - accuracy: 0.8998\n",
      "Epoch 62/100\n",
      "6558/6558 - 0s - loss: 0.2323 - accuracy: 0.9004\n",
      "Epoch 63/100\n",
      "6558/6558 - 0s - loss: 0.2343 - accuracy: 0.8983\n",
      "Epoch 64/100\n",
      "6558/6558 - 0s - loss: 0.2346 - accuracy: 0.8933\n",
      "Epoch 65/100\n",
      "6558/6558 - 0s - loss: 0.2280 - accuracy: 0.9018\n",
      "Epoch 66/100\n",
      "6558/6558 - 0s - loss: 0.2286 - accuracy: 0.8995\n",
      "Epoch 67/100\n",
      "6558/6558 - 0s - loss: 0.2358 - accuracy: 0.8942\n",
      "Epoch 68/100\n",
      "6558/6558 - 0s - loss: 0.2310 - accuracy: 0.8981\n",
      "Epoch 69/100\n",
      "6558/6558 - 0s - loss: 0.2266 - accuracy: 0.9015\n",
      "Epoch 70/100\n",
      "6558/6558 - 0s - loss: 0.2353 - accuracy: 0.8934\n",
      "Epoch 71/100\n",
      "6558/6558 - 0s - loss: 0.2242 - accuracy: 0.8992\n",
      "Epoch 72/100\n",
      "6558/6558 - 0s - loss: 0.2369 - accuracy: 0.8966\n",
      "Epoch 73/100\n",
      "6558/6558 - 0s - loss: 0.2275 - accuracy: 0.8998\n",
      "Epoch 74/100\n",
      "6558/6558 - 0s - loss: 0.2288 - accuracy: 0.9009\n",
      "Epoch 75/100\n",
      "6558/6558 - 0s - loss: 0.2218 - accuracy: 0.9035\n",
      "Epoch 76/100\n",
      "6558/6558 - 0s - loss: 0.2272 - accuracy: 0.9032\n",
      "Epoch 77/100\n",
      "6558/6558 - 0s - loss: 0.2226 - accuracy: 0.9036\n",
      "Epoch 78/100\n",
      "6558/6558 - 0s - loss: 0.2206 - accuracy: 0.9048\n",
      "Epoch 79/100\n",
      "6558/6558 - 0s - loss: 0.2248 - accuracy: 0.9027\n",
      "Epoch 80/100\n",
      "6558/6558 - 0s - loss: 0.2205 - accuracy: 0.9052\n",
      "Epoch 81/100\n",
      "6558/6558 - 0s - loss: 0.2254 - accuracy: 0.9006\n",
      "Epoch 82/100\n",
      "6558/6558 - 0s - loss: 0.2265 - accuracy: 0.9041\n",
      "Epoch 83/100\n",
      "6558/6558 - 0s - loss: 0.2249 - accuracy: 0.9027\n",
      "Epoch 84/100\n",
      "6558/6558 - 0s - loss: 0.2234 - accuracy: 0.8995\n",
      "Epoch 85/100\n",
      "6558/6558 - 0s - loss: 0.2207 - accuracy: 0.9030\n",
      "Epoch 86/100\n",
      "6558/6558 - 0s - loss: 0.2134 - accuracy: 0.9094\n",
      "Epoch 87/100\n",
      "6558/6558 - 0s - loss: 0.2177 - accuracy: 0.9053\n",
      "Epoch 88/100\n",
      "6558/6558 - 0s - loss: 0.2230 - accuracy: 0.9062\n",
      "Epoch 89/100\n",
      "6558/6558 - 0s - loss: 0.2276 - accuracy: 0.8983\n",
      "Epoch 90/100\n",
      "6558/6558 - 0s - loss: 0.2206 - accuracy: 0.9035\n",
      "Epoch 91/100\n",
      "6558/6558 - 0s - loss: 0.2158 - accuracy: 0.9085\n",
      "Epoch 92/100\n",
      "6558/6558 - 0s - loss: 0.2173 - accuracy: 0.9052\n",
      "Epoch 93/100\n",
      "6558/6558 - 0s - loss: 0.2181 - accuracy: 0.9047\n",
      "Epoch 94/100\n",
      "6558/6558 - 0s - loss: 0.2168 - accuracy: 0.9044\n",
      "Epoch 95/100\n",
      "6558/6558 - 0s - loss: 0.2126 - accuracy: 0.9070\n",
      "Epoch 96/100\n",
      "6558/6558 - 0s - loss: 0.2212 - accuracy: 0.9020\n",
      "Epoch 97/100\n",
      "6558/6558 - 0s - loss: 0.2091 - accuracy: 0.9091\n",
      "Epoch 98/100\n",
      "6558/6558 - 0s - loss: 0.2179 - accuracy: 0.9033\n",
      "Epoch 99/100\n",
      "6558/6558 - 0s - loss: 0.2157 - accuracy: 0.9073\n",
      "Epoch 100/100\n",
      "6558/6558 - 0s - loss: 0.2145 - accuracy: 0.9059\n"
     ]
    },
    {
     "data": {
      "text/plain": [
       "<tensorflow.python.keras.callbacks.History at 0x1a2c0b34e0>"
      ]
     },
     "execution_count": 32,
     "metadata": {},
     "output_type": "execute_result"
    }
   ],
   "source": [
    "model3.fit(\n",
    "    X_train_scaled,\n",
    "    y_train_categorical,\n",
    "    epochs=100,\n",
    "    shuffle=True,\n",
    "    verbose=2\n",
    ")"
   ]
  },
  {
   "cell_type": "code",
   "execution_count": 33,
   "metadata": {},
   "outputs": [
    {
     "name": "stdout",
     "output_type": "stream",
     "text": [
      "2186/2186 - 0s - loss: 0.2747 - accuracy: 0.8852\n",
      "Normal Neural Network - Loss: 0.27472951353850544, Accuracy: 0.8851783871650696\n"
     ]
    }
   ],
   "source": [
    "model_loss, model_accuracy = model3.evaluate(X_test_scaled, y_test_categorical, verbose=2)\n",
    "print(f\"Normal Neural Network - Loss: {model_loss}, Accuracy: {model_accuracy}\")"
   ]
  },
  {
   "cell_type": "code",
   "execution_count": null,
   "metadata": {},
   "outputs": [],
   "source": []
  }
 ],
 "metadata": {
  "kernel_info": {
   "name": "dev"
  },
  "kernelspec": {
   "display_name": "Python 3",
   "language": "python",
   "name": "python3"
  },
  "language_info": {
   "codemirror_mode": {
    "name": "ipython",
    "version": 3
   },
   "file_extension": ".py",
   "mimetype": "text/x-python",
   "name": "python",
   "nbconvert_exporter": "python",
   "pygments_lexer": "ipython3",
   "version": "3.7.3"
  },
  "nteract": {
   "version": "0.12.3"
  }
 },
 "nbformat": 4,
 "nbformat_minor": 4
}
